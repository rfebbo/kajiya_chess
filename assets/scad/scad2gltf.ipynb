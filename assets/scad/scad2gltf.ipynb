{
 "cells": [
  {
   "cell_type": "code",
   "execution_count": 1,
   "metadata": {},
   "outputs": [],
   "source": [
    "import os\n",
    "import subprocess\n",
    "\n",
    "scad_files_dir = \"./scad_files\"\n",
    "stl_outputs_dir = \"./stl_outputs\"\n",
    "scad_files = os.listdir(scad_files_dir)\n",
    "stl_outputs = os.listdir(stl_outputs_dir)"
   ]
  },
  {
   "cell_type": "code",
   "execution_count": 2,
   "metadata": {},
   "outputs": [
    {
     "name": "stdout",
     "output_type": "stream",
     "text": [
      "chess_bishop.stl found in ./stl_outputs\n",
      "chess_rook.stl found in ./stl_outputs\n",
      "chess_pawn.stl found in ./stl_outputs\n",
      "chess_king.stl found in ./stl_outputs\n",
      "chess_queen.stl found in ./stl_outputs\n",
      "chess_knight.stl found in ./stl_outputs\n"
     ]
    }
   ],
   "source": [
    "for f in scad_files:\n",
    "    if '.scad' in f:\n",
    "        model_name = f.split('.')[0]\n",
    "        if model_name + \".stl\" in stl_outputs:\n",
    "            print(model_name + \".stl found in \" + stl_outputs_dir)\n",
    "        else:\n",
    "            print(\"processing \" + f + \"into stl\" ) \n",
    "            subprocess.run([\"openscad\", \"-o\", f\"./stl_outputs/{f.split('.')[0]}.stl\",scad_files_dir+ \"/\" + f], stdout=subprocess.DEVNULL, stderr=subprocess.DEVNULL)"
   ]
  },
  {
   "cell_type": "code",
   "execution_count": 6,
   "metadata": {},
   "outputs": [
    {
     "name": "stdout",
     "output_type": "stream",
     "text": [
      "processing chess_pawn.stlinto gltf\n",
      "Blender 3.0.0 (hash f1cca3055776 built 2021-12-17 06:39:03)\n",
      "Read prefs: /home/rfebbo/.config/blender/3.0/config/userpref.blend\n",
      "Converting: './stl_outputs/chess_pawn.stl'\n",
      "Import finished in 0.0689 sec.\n",
      "Writing: '/home/rfebbo/rust_dev/kajia_chess/assets/scad/chess_pawn.gltf'\n",
      "'/usr/bin/3.0/python/lib/python3.10/site-packages/libextern_draco.so' does not exist, draco mesh compression not available, please add it or create environment variable BLENDER_EXTERN_DRACO_LIBRARY_PATH pointing to the folder\n",
      "16:37:54 | INFO: Starting glTF 2.0 export\n",
      "16:37:54 | INFO: Extracting primitive: chess_pawn\n",
      "16:37:54 | INFO: Primitives created: 1\n",
      "16:37:54 | INFO: Finished glTF 2.0 export in 0.03153538703918457 s\n",
      "\n",
      "\n",
      "Blender quit\n",
      "processing chess_knight.stlinto gltf\n",
      "Blender 3.0.0 (hash f1cca3055776 built 2021-12-17 06:39:03)\n",
      "Read prefs: /home/rfebbo/.config/blender/3.0/config/userpref.blend\n",
      "Converting: './stl_outputs/chess_knight.stl'\n",
      "Import finished in 0.0272 sec.\n",
      "Writing: '/home/rfebbo/rust_dev/kajia_chess/assets/scad/chess_knight.gltf'\n",
      "'/usr/bin/3.0/python/lib/python3.10/site-packages/libextern_draco.so' does not exist, draco mesh compression not available, please add it or create environment variable BLENDER_EXTERN_DRACO_LIBRARY_PATH pointing to the folder\n",
      "16:37:54 | INFO: Starting glTF 2.0 export\n",
      "16:37:54 | INFO: Extracting primitive: chess_knight\n",
      "16:37:54 | INFO: Primitives created: 1\n",
      "16:37:54 | INFO: Finished glTF 2.0 export in 0.01607966423034668 s\n",
      "\n",
      "\n",
      "Blender quit\n",
      "processing chess_king.stlinto gltf\n",
      "Blender 3.0.0 (hash f1cca3055776 built 2021-12-17 06:39:03)\n",
      "Read prefs: /home/rfebbo/.config/blender/3.0/config/userpref.blend\n",
      "Converting: './stl_outputs/chess_king.stl'\n",
      "Import finished in 0.0847 sec.\n",
      "Writing: '/home/rfebbo/rust_dev/kajia_chess/assets/scad/chess_king.gltf'\n",
      "'/usr/bin/3.0/python/lib/python3.10/site-packages/libextern_draco.so' does not exist, draco mesh compression not available, please add it or create environment variable BLENDER_EXTERN_DRACO_LIBRARY_PATH pointing to the folder\n",
      "16:37:55 | INFO: Starting glTF 2.0 export\n",
      "16:37:55 | INFO: Extracting primitive: chess_king\n",
      "16:37:55 | INFO: Primitives created: 1\n",
      "16:37:55 | INFO: Finished glTF 2.0 export in 0.04036355018615723 s\n",
      "\n",
      "\n",
      "Blender quit\n",
      "processing chess_queen.stlinto gltf\n",
      "Blender 3.0.0 (hash f1cca3055776 built 2021-12-17 06:39:03)\n",
      "Read prefs: /home/rfebbo/.config/blender/3.0/config/userpref.blend\n",
      "Converting: './stl_outputs/chess_queen.stl'\n",
      "Import finished in 0.0812 sec.\n",
      "Writing: '/home/rfebbo/rust_dev/kajia_chess/assets/scad/chess_queen.gltf'\n",
      "'/usr/bin/3.0/python/lib/python3.10/site-packages/libextern_draco.so' does not exist, draco mesh compression not available, please add it or create environment variable BLENDER_EXTERN_DRACO_LIBRARY_PATH pointing to the folder\n",
      "16:37:55 | INFO: Starting glTF 2.0 export\n",
      "16:37:55 | INFO: Extracting primitive: chess_queen\n",
      "16:37:55 | INFO: Primitives created: 1\n",
      "16:37:55 | INFO: Finished glTF 2.0 export in 0.04058241844177246 s\n",
      "\n",
      "\n",
      "Blender quit\n",
      "processing chess_bishop.stlinto gltf\n",
      "Blender 3.0.0 (hash f1cca3055776 built 2021-12-17 06:39:03)\n",
      "Read prefs: /home/rfebbo/.config/blender/3.0/config/userpref.blend\n",
      "Converting: './stl_outputs/chess_bishop.stl'\n",
      "Import finished in 0.0852 sec.\n",
      "Writing: '/home/rfebbo/rust_dev/kajia_chess/assets/scad/chess_bishop.gltf'\n",
      "'/usr/bin/3.0/python/lib/python3.10/site-packages/libextern_draco.so' does not exist, draco mesh compression not available, please add it or create environment variable BLENDER_EXTERN_DRACO_LIBRARY_PATH pointing to the folder\n",
      "16:37:56 | INFO: Starting glTF 2.0 export\n",
      "16:37:56 | INFO: Extracting primitive: chess_bishop\n",
      "16:37:56 | INFO: Primitives created: 1\n",
      "16:37:56 | INFO: Finished glTF 2.0 export in 0.040412187576293945 s\n",
      "\n",
      "\n",
      "Blender quit\n",
      "processing chess_rook.stlinto gltf\n",
      "Blender 3.0.0 (hash f1cca3055776 built 2021-12-17 06:39:03)\n",
      "Read prefs: /home/rfebbo/.config/blender/3.0/config/userpref.blend\n",
      "Converting: './stl_outputs/chess_rook.stl'\n",
      "Import finished in 0.0351 sec.\n",
      "Writing: '/home/rfebbo/rust_dev/kajia_chess/assets/scad/chess_rook.gltf'\n",
      "'/usr/bin/3.0/python/lib/python3.10/site-packages/libextern_draco.so' does not exist, draco mesh compression not available, please add it or create environment variable BLENDER_EXTERN_DRACO_LIBRARY_PATH pointing to the folder\n",
      "16:37:56 | INFO: Starting glTF 2.0 export\n",
      "16:37:56 | INFO: Extracting primitive: chess_rook\n",
      "16:37:56 | INFO: Primitives created: 1\n",
      "16:37:56 | INFO: Finished glTF 2.0 export in 0.019425153732299805 s\n",
      "\n",
      "\n",
      "Blender quit\n"
     ]
    }
   ],
   "source": [
    "\n",
    "stl_outputs = os.listdir(stl_outputs_dir)\n",
    "for f in stl_outputs:\n",
    "    model_name = f.split('.')[0]\n",
    "    print(\"processing \" + f + \"into gltf\" ) \n",
    "    subprocess.run([\"sh\", \"./2gltf2.sh\", stl_outputs_dir + \"/\" + f])\n",
    "    subprocess.run([\"mv\", model_name + \".bin\", \"../meshes/chess_peices\"])\n",
    "    subprocess.run([\"mv\", model_name + \".gltf\", \"../meshes/chess_peices\"])"
   ]
  },
  {
   "cell_type": "code",
   "execution_count": null,
   "metadata": {},
   "outputs": [],
   "source": []
  }
 ],
 "metadata": {
  "interpreter": {
   "hash": "767d51c1340bd893661ea55ea3124f6de3c7a262a8b4abca0554b478b1e2ff90"
  },
  "kernelspec": {
   "display_name": "Python 3.10.1 64-bit",
   "language": "python",
   "name": "python3"
  },
  "language_info": {
   "codemirror_mode": {
    "name": "ipython",
    "version": 3
   },
   "file_extension": ".py",
   "mimetype": "text/x-python",
   "name": "python",
   "nbconvert_exporter": "python",
   "pygments_lexer": "ipython3",
   "version": "3.10.1"
  },
  "orig_nbformat": 4
 },
 "nbformat": 4,
 "nbformat_minor": 2
}
